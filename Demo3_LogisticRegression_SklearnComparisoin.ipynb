{
 "cells": [
  {
   "cell_type": "markdown",
   "metadata": {},
   "source": [
    "# UW Data 558 Polished Code Release - Daniel White\n",
    "## Comparison with Sklearn"
   ]
  },
  {
   "cell_type": "markdown",
   "metadata": {},
   "source": [
    "### Introduction\n",
    "\n",
    "In this notebook, I compare the model computed using my own Logistic Regression algorithm with the one computed by sklearn. The two methods are compared using the Spam dataset introduced in Demo 1."
   ]
  },
  {
   "cell_type": "code",
   "execution_count": 44,
   "metadata": {
    "collapsed": true
   },
   "outputs": [],
   "source": [
    "#Change ipython notebook output settings\n",
    "from IPython.core.interactiveshell import InteractiveShell\n",
    "InteractiveShell.ast_node_interactivity = \"all\"\n",
    "\n",
    "#Import packages required packages\n",
    "import src.LogisticRegression as mlr\n",
    "import numpy as np\n",
    "import pandas as pd\n",
    "from sklearn.model_selection import train_test_split\n",
    "from sklearn import preprocessing\n",
    "from sklearn.linear_model import LogisticRegressionCV\n",
    "from sklearn.linear_model import LogisticRegression\n"
   ]
  },
  {
   "cell_type": "code",
   "execution_count": 45,
   "metadata": {
    "collapsed": true
   },
   "outputs": [],
   "source": [
    "# Load the Spam dataset, drop NA\n",
    "data = pd.read_csv('https://web.stanford.edu/~hastie/ElemStatLearn/datasets/spam.data', delim_whitespace=True, header =None)\n",
    "spam = data.dropna()\n",
    "\n",
    "#Replace 0s with -1 in final column\n",
    "spam[57].replace(0,-1,inplace=True)\n",
    "\n",
    "#Split into training and test set and standardize data using the sklearn functions\n",
    "\n",
    "# Create training and test sets for X and Y variables\n",
    "X = spam.drop(57, axis=1)\n",
    "y = spam.iloc[:,57]\n",
    "X_train, X_test, y_train, y_test = train_test_split(X, y, random_state=0)\n",
    "\n",
    "# Standardize the data using SKlearn processing\n",
    "scaler = preprocessing.StandardScaler().fit(X_train)\n",
    "X_train = scaler.transform(X_train)\n",
    "X_test = scaler.transform(X_test)\n",
    "\n",
    "# Append a column of 1's to X_train and X_test to represent the model intercept coefficient\n",
    "X_train = preprocessing.add_dummy_feature(X_train) \n",
    "X_test = preprocessing.add_dummy_feature(X_test)\n",
    "y_train = np.array(y_train)\n",
    "y_test = np.array(y_test)"
   ]
  },
  {
   "cell_type": "markdown",
   "metadata": {},
   "source": [
    "In the code block below, the sklearn model and my own model for Logistic Regression are fitted to the Spam dataset. The coefficients of each model are then compared on a scatterplot."
   ]
  },
  {
   "cell_type": "code",
   "execution_count": 46,
   "metadata": {},
   "outputs": [],
   "source": [
    "np.random.seed(9)\n",
    "n,d = X_train.shape\n",
    "eps = 0.001\n",
    "max_iter = 1000\n",
    "lamb = 1\n",
    "t_init = lr.compute_t(X_train, lamb=lamb)\n",
    "beta_in = np.random.normal(size=d)\n",
    "mlr_training = lr.my_logistic_regression(beta_in, X=X_train, Y=y_train, t_init = t_init, eps= eps, max_iter = max_iter, lamb=lamb)\n",
    "mlr_model = mlr_training[-1]\n",
    "\n",
    "#Fit sklearn Logistic Regression with appropriately transformed lambda parameter\n",
    "logreg = LogisticRegression(C = 1/(2*n*lamb), fit_intercept = True)\n",
    "logregfit = logreg.fit(X_train, y_train);\n",
    "#Save coefficients from fitted Logistic Regression from sklearn\n",
    "sklearn_model = logreg.coef_.T"
   ]
  },
  {
   "cell_type": "code",
   "execution_count": 47,
   "metadata": {},
   "outputs": [
    {
     "data": {
      "image/png": "[encoded data removed]",
      "text/plain": [
       "<matplotlib.figure.Figure at 0x1a2d0c2780>"
      ]
     },
     "metadata": {},
     "output_type": "display_data"
    }
   ],
   "source": [
    "import matplotlib.pyplot as plt\n",
    "f, ax = plt.subplots(figsize = (8,6))\n",
    "f = plt.plot(sklearn_model, \".\", color = \"green\", ms =20)\n",
    "f = plt.plot(mlr_model, \"+\", color = \"red\", ms = 20)\n",
    "plt.legend(['sklearn', 'mlr'], loc='upper right')\n",
    "plt.title(\"SKlearn vs. MLR Model Comparison\")\n",
    "plt.xlabel(\"Coefficients\")\n",
    "plt.ylabel(\"Values\")\n",
    "plt.show();"
   ]
  },
  {
   "cell_type": "markdown",
   "metadata": {},
   "source": [
    "In the scatterplot above, the X axis representes the coefficient number and the Y axis represents the value. The two models developed using my own algorithm and sklearn are overlayed on the plot and compared. The sklearn model coefficients are represented by green dots while my logisitic regression model is represented by the red crosses. The plot shows near universal overlap with the coefficients from both models, demonstrating that the two are very similar."
   ]
  },
  {
   "cell_type": "code",
   "execution_count": 48,
   "metadata": {},
   "outputs": [
    {
     "name": "stdout",
     "output_type": "stream",
     "text": [
      "SKlearn model - Training Misclass Error: 0.10231884058\n",
      "SKlearn model - Test Misclass Error: 0.112945264987\n"
     ]
    }
   ],
   "source": [
    "train_misclass = lr.class_error(X_train.dot(sklearn_model), y_train)\n",
    "print(\"SKlearn model - Training Misclass Error:\", train_misclass)\n",
    "test_misclass = lr.class_error(X_test.dot(sklearn_model), y_test)\n",
    "print(\"SKlearn model - Test Misclass Error:\", test_misclass)"
   ]
  },
  {
   "cell_type": "code",
   "execution_count": 49,
   "metadata": {},
   "outputs": [
    {
     "name": "stdout",
     "output_type": "stream",
     "text": [
      "MLR model - Training Misclass Error: 0.10347826087\n",
      "MLR model - Test Misclass Error: 0.111207645526\n"
     ]
    }
   ],
   "source": [
    "train_misclass = lr.class_error(X_train.dot(mlr_model), y_train)\n",
    "print(\"MLR model - Training Misclass Error:\", train_misclass)\n",
    "test_misclass = lr.class_error(X_test.dot(mlr_model), y_test)\n",
    "print(\"MLR model - Test Misclass Error:\", test_misclass)"
   ]
  },
  {
   "cell_type": "markdown",
   "metadata": {},
   "source": [
    "The misclassification error for the two models is computed above. As the output shows, the error rate for the sklearn model and my own MLR model is nearly identical."
   ]
  },
  {
   "cell_type": "code",
   "execution_count": null,
   "metadata": {
    "collapsed": true
   },
   "outputs": [],
   "source": []
  }
 ],
 "metadata": {
  "kernelspec": {
   "display_name": "Python 3",
   "language": "python",
   "name": "python3"
  },
  "language_info": {
   "codemirror_mode": {
    "name": "ipython",
    "version": 3
   },
   "file_extension": ".py",
   "mimetype": "text/x-python",
   "name": "python",
   "nbconvert_exporter": "python",
   "pygments_lexer": "ipython3",
   "version": "3.6.3"
  }
 },
 "nbformat": 4,
 "nbformat_minor": 2
}
